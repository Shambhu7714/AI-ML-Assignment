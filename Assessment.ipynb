{
 "cells": [
  {
   "cell_type": "markdown",
   "metadata": {},
   "source": [
    "Import Important Library"
   ]
  },
  {
   "cell_type": "code",
   "execution_count": 5,
   "metadata": {},
   "outputs": [],
   "source": [
    "import pandas as pd\n",
    "import numpy as np\n",
    "import matplotlib.pyplot as plt\n",
    "import seaborn as sns\n",
    "from tqdm.auto import tqdm"
   ]
  },
  {
   "cell_type": "markdown",
   "metadata": {},
   "source": [
    "Important Dataset"
   ]
  },
  {
   "cell_type": "code",
   "execution_count": 6,
   "metadata": {},
   "outputs": [],
   "source": [
    "df=pd.read_csv(\"E:\\Assignment\\HealthApp_2k.log_structured.csv\")"
   ]
  },
  {
   "cell_type": "code",
   "execution_count": 7,
   "metadata": {},
   "outputs": [
    {
     "name": "stdout",
     "output_type": "stream",
     "text": [
      "<class 'pandas.core.frame.DataFrame'>\n",
      "RangeIndex: 2000 entries, 0 to 1999\n",
      "Data columns (total 7 columns):\n",
      " #   Column         Non-Null Count  Dtype \n",
      "---  ------         --------------  ----- \n",
      " 0   LineId         2000 non-null   int64 \n",
      " 1   Time           2000 non-null   object\n",
      " 2   Component      2000 non-null   object\n",
      " 3   Pid            2000 non-null   int64 \n",
      " 4   Content        2000 non-null   object\n",
      " 5   EventId        2000 non-null   object\n",
      " 6   EventTemplate  2000 non-null   object\n",
      "dtypes: int64(2), object(5)\n",
      "memory usage: 109.5+ KB\n"
     ]
    }
   ],
   "source": [
    "df.info()"
   ]
  },
  {
   "cell_type": "markdown",
   "metadata": {},
   "source": [
    "Not available duplicate Value"
   ]
  },
  {
   "cell_type": "code",
   "execution_count": 8,
   "metadata": {},
   "outputs": [
    {
     "data": {
      "text/plain": [
       "LineId           0\n",
       "Time             0\n",
       "Component        0\n",
       "Pid              0\n",
       "Content          0\n",
       "EventId          0\n",
       "EventTemplate    0\n",
       "dtype: int64"
      ]
     },
     "execution_count": 8,
     "metadata": {},
     "output_type": "execute_result"
    }
   ],
   "source": [
    "df.isna().sum()"
   ]
  },
  {
   "cell_type": "markdown",
   "metadata": {},
   "source": [
    "Not available Null Value"
   ]
  },
  {
   "cell_type": "code",
   "execution_count": 9,
   "metadata": {},
   "outputs": [
    {
     "data": {
      "text/html": [
       "<div>\n",
       "<style scoped>\n",
       "    .dataframe tbody tr th:only-of-type {\n",
       "        vertical-align: middle;\n",
       "    }\n",
       "\n",
       "    .dataframe tbody tr th {\n",
       "        vertical-align: top;\n",
       "    }\n",
       "\n",
       "    .dataframe thead th {\n",
       "        text-align: right;\n",
       "    }\n",
       "</style>\n",
       "<table border=\"1\" class=\"dataframe\">\n",
       "  <thead>\n",
       "    <tr style=\"text-align: right;\">\n",
       "      <th></th>\n",
       "      <th>LineId</th>\n",
       "      <th>Time</th>\n",
       "      <th>Component</th>\n",
       "      <th>Pid</th>\n",
       "      <th>Content</th>\n",
       "      <th>EventId</th>\n",
       "      <th>EventTemplate</th>\n",
       "    </tr>\n",
       "  </thead>\n",
       "  <tbody>\n",
       "    <tr>\n",
       "      <th>0</th>\n",
       "      <td>1</td>\n",
       "      <td>20171223-22:15:29:606</td>\n",
       "      <td>Step_LSC</td>\n",
       "      <td>30002312</td>\n",
       "      <td>onStandStepChanged 3579</td>\n",
       "      <td>E42</td>\n",
       "      <td>onStandStepChanged &lt;*&gt;</td>\n",
       "    </tr>\n",
       "    <tr>\n",
       "      <th>1</th>\n",
       "      <td>2</td>\n",
       "      <td>20171223-22:15:29:615</td>\n",
       "      <td>Step_LSC</td>\n",
       "      <td>30002312</td>\n",
       "      <td>onExtend:1514038530000 14 0 4</td>\n",
       "      <td>E39</td>\n",
       "      <td>onExtend:&lt;*&gt; &lt;*&gt; &lt;*&gt; &lt;*&gt;</td>\n",
       "    </tr>\n",
       "    <tr>\n",
       "      <th>2</th>\n",
       "      <td>3</td>\n",
       "      <td>20171223-22:15:29:633</td>\n",
       "      <td>Step_StandReportReceiver</td>\n",
       "      <td>30002312</td>\n",
       "      <td>onReceive action: android.intent.action.SCREEN_ON</td>\n",
       "      <td>E41</td>\n",
       "      <td>onReceive action: android.intent.action.SCREEN_ON</td>\n",
       "    </tr>\n",
       "    <tr>\n",
       "      <th>3</th>\n",
       "      <td>4</td>\n",
       "      <td>20171223-22:15:29:635</td>\n",
       "      <td>Step_LSC</td>\n",
       "      <td>30002312</td>\n",
       "      <td>processHandleBroadcastAction action:android.in...</td>\n",
       "      <td>E43</td>\n",
       "      <td>processHandleBroadcastAction action:android.in...</td>\n",
       "    </tr>\n",
       "    <tr>\n",
       "      <th>4</th>\n",
       "      <td>5</td>\n",
       "      <td>20171223-22:15:29:635</td>\n",
       "      <td>Step_StandStepCounter</td>\n",
       "      <td>30002312</td>\n",
       "      <td>flush sensor data</td>\n",
       "      <td>E12</td>\n",
       "      <td>flush sensor data</td>\n",
       "    </tr>\n",
       "    <tr>\n",
       "      <th>5</th>\n",
       "      <td>6</td>\n",
       "      <td>20171223-22:15:29:635</td>\n",
       "      <td>Step_SPUtils</td>\n",
       "      <td>30002312</td>\n",
       "      <td>getTodayTotalDetailSteps = 1514038440000##699...</td>\n",
       "      <td>E22</td>\n",
       "      <td>getTodayTotalDetailSteps = &lt;*&gt;##&lt;*&gt;##&lt;*&gt;##&lt;*&gt;#...</td>\n",
       "    </tr>\n",
       "    <tr>\n",
       "      <th>6</th>\n",
       "      <td>7</td>\n",
       "      <td>20171223-22:15:29:636</td>\n",
       "      <td>Step_SPUtils</td>\n",
       "      <td>30002312</td>\n",
       "      <td>setTodayTotalDetailSteps=1514038440000##7007##...</td>\n",
       "      <td>E58</td>\n",
       "      <td>setTodayTotalDetailSteps=&lt;*&gt;</td>\n",
       "    </tr>\n",
       "    <tr>\n",
       "      <th>7</th>\n",
       "      <td>8</td>\n",
       "      <td>20171223-22:15:29:636</td>\n",
       "      <td>Step_LSC</td>\n",
       "      <td>30002312</td>\n",
       "      <td>onStandStepChanged 3579</td>\n",
       "      <td>E42</td>\n",
       "      <td>onStandStepChanged &lt;*&gt;</td>\n",
       "    </tr>\n",
       "    <tr>\n",
       "      <th>8</th>\n",
       "      <td>9</td>\n",
       "      <td>20171223-22:15:29:645</td>\n",
       "      <td>Step_ExtSDM</td>\n",
       "      <td>30002312</td>\n",
       "      <td>calculateCaloriesWithCache totalCalories=126775</td>\n",
       "      <td>E4</td>\n",
       "      <td>calculateCaloriesWithCache totalCalories=&lt;*&gt;</td>\n",
       "    </tr>\n",
       "    <tr>\n",
       "      <th>9</th>\n",
       "      <td>10</td>\n",
       "      <td>20171223-22:15:29:648</td>\n",
       "      <td>Step_ExtSDM</td>\n",
       "      <td>30002312</td>\n",
       "      <td>calculateAltitudeWithCache totalAltitude=240</td>\n",
       "      <td>E3</td>\n",
       "      <td>calculateAltitudeWithCache totalAltitude=&lt;*&gt;</td>\n",
       "    </tr>\n",
       "    <tr>\n",
       "      <th>10</th>\n",
       "      <td>11</td>\n",
       "      <td>20171223-22:15:29:649</td>\n",
       "      <td>Step_StandReportReceiver</td>\n",
       "      <td>30002312</td>\n",
       "      <td>REPORT : 7007 5002 150089 240</td>\n",
       "      <td>E47</td>\n",
       "      <td>REPORT : &lt;*&gt; &lt;*&gt; &lt;*&gt; &lt;*&gt;</td>\n",
       "    </tr>\n",
       "    <tr>\n",
       "      <th>11</th>\n",
       "      <td>12</td>\n",
       "      <td>20171223-22:15:29:737</td>\n",
       "      <td>Step_LSC</td>\n",
       "      <td>30002312</td>\n",
       "      <td>onExtend:1514038530000 0 0 4</td>\n",
       "      <td>E39</td>\n",
       "      <td>onExtend:&lt;*&gt; &lt;*&gt; &lt;*&gt; &lt;*&gt;</td>\n",
       "    </tr>\n",
       "    <tr>\n",
       "      <th>12</th>\n",
       "      <td>13</td>\n",
       "      <td>20171223-22:15:29:738</td>\n",
       "      <td>Step_LSC</td>\n",
       "      <td>30002312</td>\n",
       "      <td>onStandStepChanged 3579</td>\n",
       "      <td>E42</td>\n",
       "      <td>onStandStepChanged &lt;*&gt;</td>\n",
       "    </tr>\n",
       "    <tr>\n",
       "      <th>13</th>\n",
       "      <td>14</td>\n",
       "      <td>20171223-22:15:29:792</td>\n",
       "      <td>Step_LSC</td>\n",
       "      <td>30002312</td>\n",
       "      <td>onStandStepChanged 3580</td>\n",
       "      <td>E42</td>\n",
       "      <td>onStandStepChanged &lt;*&gt;</td>\n",
       "    </tr>\n",
       "    <tr>\n",
       "      <th>14</th>\n",
       "      <td>15</td>\n",
       "      <td>20171223-22:15:29:800</td>\n",
       "      <td>Step_LSC</td>\n",
       "      <td>30002312</td>\n",
       "      <td>onExtend:1514038530000 1 0 4</td>\n",
       "      <td>E39</td>\n",
       "      <td>onExtend:&lt;*&gt; &lt;*&gt; &lt;*&gt; &lt;*&gt;</td>\n",
       "    </tr>\n",
       "    <tr>\n",
       "      <th>15</th>\n",
       "      <td>16</td>\n",
       "      <td>20171223-22:15:29:950</td>\n",
       "      <td>Step_SPUtils</td>\n",
       "      <td>30002312</td>\n",
       "      <td>getTodayTotalDetailSteps = 1514038440000##700...</td>\n",
       "      <td>E22</td>\n",
       "      <td>getTodayTotalDetailSteps = &lt;*&gt;##&lt;*&gt;##&lt;*&gt;##&lt;*&gt;#...</td>\n",
       "    </tr>\n",
       "    <tr>\n",
       "      <th>16</th>\n",
       "      <td>17</td>\n",
       "      <td>20171223-22:15:29:950</td>\n",
       "      <td>Step_SPUtils</td>\n",
       "      <td>30002312</td>\n",
       "      <td>setTodayTotalDetailSteps=1514038440000##7008##...</td>\n",
       "      <td>E58</td>\n",
       "      <td>setTodayTotalDetailSteps=&lt;*&gt;</td>\n",
       "    </tr>\n",
       "    <tr>\n",
       "      <th>17</th>\n",
       "      <td>18</td>\n",
       "      <td>20171223-22:15:29:959</td>\n",
       "      <td>Step_ExtSDM</td>\n",
       "      <td>30002312</td>\n",
       "      <td>calculateCaloriesWithCache totalCalories=126797</td>\n",
       "      <td>E4</td>\n",
       "      <td>calculateCaloriesWithCache totalCalories=&lt;*&gt;</td>\n",
       "    </tr>\n",
       "    <tr>\n",
       "      <th>18</th>\n",
       "      <td>19</td>\n",
       "      <td>20171223-22:15:29:962</td>\n",
       "      <td>Step_ExtSDM</td>\n",
       "      <td>30002312</td>\n",
       "      <td>calculateAltitudeWithCache totalAltitude=240</td>\n",
       "      <td>E3</td>\n",
       "      <td>calculateAltitudeWithCache totalAltitude=&lt;*&gt;</td>\n",
       "    </tr>\n",
       "    <tr>\n",
       "      <th>19</th>\n",
       "      <td>20</td>\n",
       "      <td>20171223-22:15:29:962</td>\n",
       "      <td>Step_StandReportReceiver</td>\n",
       "      <td>30002312</td>\n",
       "      <td>REPORT : 7008 5003 150111 240</td>\n",
       "      <td>E47</td>\n",
       "      <td>REPORT : &lt;*&gt; &lt;*&gt; &lt;*&gt; &lt;*&gt;</td>\n",
       "    </tr>\n",
       "  </tbody>\n",
       "</table>\n",
       "</div>"
      ],
      "text/plain": [
       "    LineId                   Time                 Component       Pid  \\\n",
       "0        1  20171223-22:15:29:606                  Step_LSC  30002312   \n",
       "1        2  20171223-22:15:29:615                  Step_LSC  30002312   \n",
       "2        3  20171223-22:15:29:633  Step_StandReportReceiver  30002312   \n",
       "3        4  20171223-22:15:29:635                  Step_LSC  30002312   \n",
       "4        5  20171223-22:15:29:635     Step_StandStepCounter  30002312   \n",
       "5        6  20171223-22:15:29:635              Step_SPUtils  30002312   \n",
       "6        7  20171223-22:15:29:636              Step_SPUtils  30002312   \n",
       "7        8  20171223-22:15:29:636                  Step_LSC  30002312   \n",
       "8        9  20171223-22:15:29:645               Step_ExtSDM  30002312   \n",
       "9       10  20171223-22:15:29:648               Step_ExtSDM  30002312   \n",
       "10      11  20171223-22:15:29:649  Step_StandReportReceiver  30002312   \n",
       "11      12  20171223-22:15:29:737                  Step_LSC  30002312   \n",
       "12      13  20171223-22:15:29:738                  Step_LSC  30002312   \n",
       "13      14  20171223-22:15:29:792                  Step_LSC  30002312   \n",
       "14      15  20171223-22:15:29:800                  Step_LSC  30002312   \n",
       "15      16  20171223-22:15:29:950              Step_SPUtils  30002312   \n",
       "16      17  20171223-22:15:29:950              Step_SPUtils  30002312   \n",
       "17      18  20171223-22:15:29:959               Step_ExtSDM  30002312   \n",
       "18      19  20171223-22:15:29:962               Step_ExtSDM  30002312   \n",
       "19      20  20171223-22:15:29:962  Step_StandReportReceiver  30002312   \n",
       "\n",
       "                                              Content EventId  \\\n",
       "0                             onStandStepChanged 3579     E42   \n",
       "1                       onExtend:1514038530000 14 0 4     E39   \n",
       "2   onReceive action: android.intent.action.SCREEN_ON     E41   \n",
       "3   processHandleBroadcastAction action:android.in...     E43   \n",
       "4                                   flush sensor data     E12   \n",
       "5    getTodayTotalDetailSteps = 1514038440000##699...     E22   \n",
       "6   setTodayTotalDetailSteps=1514038440000##7007##...     E58   \n",
       "7                             onStandStepChanged 3579     E42   \n",
       "8     calculateCaloriesWithCache totalCalories=126775      E4   \n",
       "9        calculateAltitudeWithCache totalAltitude=240      E3   \n",
       "10                      REPORT : 7007 5002 150089 240     E47   \n",
       "11                       onExtend:1514038530000 0 0 4     E39   \n",
       "12                            onStandStepChanged 3579     E42   \n",
       "13                            onStandStepChanged 3580     E42   \n",
       "14                       onExtend:1514038530000 1 0 4     E39   \n",
       "15   getTodayTotalDetailSteps = 1514038440000##700...     E22   \n",
       "16  setTodayTotalDetailSteps=1514038440000##7008##...     E58   \n",
       "17    calculateCaloriesWithCache totalCalories=126797      E4   \n",
       "18       calculateAltitudeWithCache totalAltitude=240      E3   \n",
       "19                      REPORT : 7008 5003 150111 240     E47   \n",
       "\n",
       "                                        EventTemplate  \n",
       "0                              onStandStepChanged <*>  \n",
       "1                            onExtend:<*> <*> <*> <*>  \n",
       "2   onReceive action: android.intent.action.SCREEN_ON  \n",
       "3   processHandleBroadcastAction action:android.in...  \n",
       "4                                   flush sensor data  \n",
       "5   getTodayTotalDetailSteps = <*>##<*>##<*>##<*>#...  \n",
       "6                        setTodayTotalDetailSteps=<*>  \n",
       "7                              onStandStepChanged <*>  \n",
       "8        calculateCaloriesWithCache totalCalories=<*>  \n",
       "9        calculateAltitudeWithCache totalAltitude=<*>  \n",
       "10                           REPORT : <*> <*> <*> <*>  \n",
       "11                           onExtend:<*> <*> <*> <*>  \n",
       "12                             onStandStepChanged <*>  \n",
       "13                             onStandStepChanged <*>  \n",
       "14                           onExtend:<*> <*> <*> <*>  \n",
       "15  getTodayTotalDetailSteps = <*>##<*>##<*>##<*>#...  \n",
       "16                       setTodayTotalDetailSteps=<*>  \n",
       "17       calculateCaloriesWithCache totalCalories=<*>  \n",
       "18       calculateAltitudeWithCache totalAltitude=<*>  \n",
       "19                           REPORT : <*> <*> <*> <*>  "
      ]
     },
     "execution_count": 9,
     "metadata": {},
     "output_type": "execute_result"
    }
   ],
   "source": [
    "df.head(20)"
   ]
  },
  {
   "cell_type": "code",
   "execution_count": 10,
   "metadata": {},
   "outputs": [
    {
     "data": {
      "text/plain": [
       "0"
      ]
     },
     "execution_count": 10,
     "metadata": {},
     "output_type": "execute_result"
    }
   ],
   "source": [
    "df.duplicated().sum()"
   ]
  },
  {
   "cell_type": "code",
   "execution_count": 11,
   "metadata": {},
   "outputs": [
    {
     "data": {
      "text/html": [
       "<div>\n",
       "<style scoped>\n",
       "    .dataframe tbody tr th:only-of-type {\n",
       "        vertical-align: middle;\n",
       "    }\n",
       "\n",
       "    .dataframe tbody tr th {\n",
       "        vertical-align: top;\n",
       "    }\n",
       "\n",
       "    .dataframe thead th {\n",
       "        text-align: right;\n",
       "    }\n",
       "</style>\n",
       "<table border=\"1\" class=\"dataframe\">\n",
       "  <thead>\n",
       "    <tr style=\"text-align: right;\">\n",
       "      <th></th>\n",
       "      <th>LineId</th>\n",
       "      <th>Pid</th>\n",
       "    </tr>\n",
       "  </thead>\n",
       "  <tbody>\n",
       "    <tr>\n",
       "      <th>count</th>\n",
       "      <td>2000.000000</td>\n",
       "      <td>2000.0</td>\n",
       "    </tr>\n",
       "    <tr>\n",
       "      <th>mean</th>\n",
       "      <td>1000.500000</td>\n",
       "      <td>30002312.0</td>\n",
       "    </tr>\n",
       "    <tr>\n",
       "      <th>std</th>\n",
       "      <td>577.494589</td>\n",
       "      <td>0.0</td>\n",
       "    </tr>\n",
       "    <tr>\n",
       "      <th>min</th>\n",
       "      <td>1.000000</td>\n",
       "      <td>30002312.0</td>\n",
       "    </tr>\n",
       "    <tr>\n",
       "      <th>25%</th>\n",
       "      <td>500.750000</td>\n",
       "      <td>30002312.0</td>\n",
       "    </tr>\n",
       "    <tr>\n",
       "      <th>50%</th>\n",
       "      <td>1000.500000</td>\n",
       "      <td>30002312.0</td>\n",
       "    </tr>\n",
       "    <tr>\n",
       "      <th>75%</th>\n",
       "      <td>1500.250000</td>\n",
       "      <td>30002312.0</td>\n",
       "    </tr>\n",
       "    <tr>\n",
       "      <th>max</th>\n",
       "      <td>2000.000000</td>\n",
       "      <td>30002312.0</td>\n",
       "    </tr>\n",
       "  </tbody>\n",
       "</table>\n",
       "</div>"
      ],
      "text/plain": [
       "            LineId         Pid\n",
       "count  2000.000000      2000.0\n",
       "mean   1000.500000  30002312.0\n",
       "std     577.494589         0.0\n",
       "min       1.000000  30002312.0\n",
       "25%     500.750000  30002312.0\n",
       "50%    1000.500000  30002312.0\n",
       "75%    1500.250000  30002312.0\n",
       "max    2000.000000  30002312.0"
      ]
     },
     "execution_count": 11,
     "metadata": {},
     "output_type": "execute_result"
    }
   ],
   "source": [
    "df.describe()"
   ]
  },
  {
   "cell_type": "code",
   "execution_count": 12,
   "metadata": {},
   "outputs": [
    {
     "data": {
      "text/plain": [
       "LineId           0\n",
       "Time             0\n",
       "Component        0\n",
       "Pid              0\n",
       "Content          0\n",
       "EventId          0\n",
       "EventTemplate    0\n",
       "dtype: int64"
      ]
     },
     "execution_count": 12,
     "metadata": {},
     "output_type": "execute_result"
    }
   ],
   "source": [
    "df.isnull().sum()"
   ]
  },
  {
   "cell_type": "code",
   "execution_count": 13,
   "metadata": {},
   "outputs": [
    {
     "data": {
      "text/plain": [
       "LineId           2000\n",
       "Time             1711\n",
       "Component          20\n",
       "Pid                 1\n",
       "Content          1179\n",
       "EventId            75\n",
       "EventTemplate      75\n",
       "dtype: int64"
      ]
     },
     "execution_count": 13,
     "metadata": {},
     "output_type": "execute_result"
    }
   ],
   "source": [
    "df.nunique()"
   ]
  },
  {
   "cell_type": "code",
   "execution_count": 14,
   "metadata": {},
   "outputs": [],
   "source": [
    "df['Time'] = pd.to_datetime(df['Time'], \n",
    "                            format='%Y%m%d-%H:%M:%S:%f', errors='coerce')\n"
   ]
  },
  {
   "cell_type": "code",
   "execution_count": 15,
   "metadata": {},
   "outputs": [],
   "source": [
    "df['Date'] = df['Time'].dt.date\n",
    "df['Hour'] = df['Time'].dt.hour\n",
    "df['minute']=df['Time'].dt.minute\n",
    "df['second']=df['Time'].dt.second"
   ]
  },
  {
   "cell_type": "code",
   "execution_count": 16,
   "metadata": {},
   "outputs": [
    {
     "data": {
      "text/html": [
       "<div>\n",
       "<style scoped>\n",
       "    .dataframe tbody tr th:only-of-type {\n",
       "        vertical-align: middle;\n",
       "    }\n",
       "\n",
       "    .dataframe tbody tr th {\n",
       "        vertical-align: top;\n",
       "    }\n",
       "\n",
       "    .dataframe thead th {\n",
       "        text-align: right;\n",
       "    }\n",
       "</style>\n",
       "<table border=\"1\" class=\"dataframe\">\n",
       "  <thead>\n",
       "    <tr style=\"text-align: right;\">\n",
       "      <th></th>\n",
       "      <th>LineId</th>\n",
       "      <th>Time</th>\n",
       "      <th>Component</th>\n",
       "      <th>Pid</th>\n",
       "      <th>Content</th>\n",
       "      <th>EventId</th>\n",
       "      <th>EventTemplate</th>\n",
       "      <th>Date</th>\n",
       "      <th>Hour</th>\n",
       "      <th>minute</th>\n",
       "      <th>second</th>\n",
       "    </tr>\n",
       "  </thead>\n",
       "  <tbody>\n",
       "    <tr>\n",
       "      <th>0</th>\n",
       "      <td>1</td>\n",
       "      <td>2017-12-23 22:15:29.606</td>\n",
       "      <td>Step_LSC</td>\n",
       "      <td>30002312</td>\n",
       "      <td>onStandStepChanged 3579</td>\n",
       "      <td>E42</td>\n",
       "      <td>onStandStepChanged &lt;*&gt;</td>\n",
       "      <td>2017-12-23</td>\n",
       "      <td>22</td>\n",
       "      <td>15</td>\n",
       "      <td>29</td>\n",
       "    </tr>\n",
       "    <tr>\n",
       "      <th>1</th>\n",
       "      <td>2</td>\n",
       "      <td>2017-12-23 22:15:29.615</td>\n",
       "      <td>Step_LSC</td>\n",
       "      <td>30002312</td>\n",
       "      <td>onExtend:1514038530000 14 0 4</td>\n",
       "      <td>E39</td>\n",
       "      <td>onExtend:&lt;*&gt; &lt;*&gt; &lt;*&gt; &lt;*&gt;</td>\n",
       "      <td>2017-12-23</td>\n",
       "      <td>22</td>\n",
       "      <td>15</td>\n",
       "      <td>29</td>\n",
       "    </tr>\n",
       "    <tr>\n",
       "      <th>2</th>\n",
       "      <td>3</td>\n",
       "      <td>2017-12-23 22:15:29.633</td>\n",
       "      <td>Step_StandReportReceiver</td>\n",
       "      <td>30002312</td>\n",
       "      <td>onReceive action: android.intent.action.SCREEN_ON</td>\n",
       "      <td>E41</td>\n",
       "      <td>onReceive action: android.intent.action.SCREEN_ON</td>\n",
       "      <td>2017-12-23</td>\n",
       "      <td>22</td>\n",
       "      <td>15</td>\n",
       "      <td>29</td>\n",
       "    </tr>\n",
       "    <tr>\n",
       "      <th>3</th>\n",
       "      <td>4</td>\n",
       "      <td>2017-12-23 22:15:29.635</td>\n",
       "      <td>Step_LSC</td>\n",
       "      <td>30002312</td>\n",
       "      <td>processHandleBroadcastAction action:android.in...</td>\n",
       "      <td>E43</td>\n",
       "      <td>processHandleBroadcastAction action:android.in...</td>\n",
       "      <td>2017-12-23</td>\n",
       "      <td>22</td>\n",
       "      <td>15</td>\n",
       "      <td>29</td>\n",
       "    </tr>\n",
       "    <tr>\n",
       "      <th>4</th>\n",
       "      <td>5</td>\n",
       "      <td>2017-12-23 22:15:29.635</td>\n",
       "      <td>Step_StandStepCounter</td>\n",
       "      <td>30002312</td>\n",
       "      <td>flush sensor data</td>\n",
       "      <td>E12</td>\n",
       "      <td>flush sensor data</td>\n",
       "      <td>2017-12-23</td>\n",
       "      <td>22</td>\n",
       "      <td>15</td>\n",
       "      <td>29</td>\n",
       "    </tr>\n",
       "    <tr>\n",
       "      <th>...</th>\n",
       "      <td>...</td>\n",
       "      <td>...</td>\n",
       "      <td>...</td>\n",
       "      <td>...</td>\n",
       "      <td>...</td>\n",
       "      <td>...</td>\n",
       "      <td>...</td>\n",
       "      <td>...</td>\n",
       "      <td>...</td>\n",
       "      <td>...</td>\n",
       "      <td>...</td>\n",
       "    </tr>\n",
       "    <tr>\n",
       "      <th>1995</th>\n",
       "      <td>1996</td>\n",
       "      <td>2017-12-24 00:58:53.985</td>\n",
       "      <td>Step_LSC</td>\n",
       "      <td>30002312</td>\n",
       "      <td>processHandleBroadcastAction action:android.in...</td>\n",
       "      <td>E44</td>\n",
       "      <td>processHandleBroadcastAction action:android.in...</td>\n",
       "      <td>2017-12-24</td>\n",
       "      <td>0</td>\n",
       "      <td>58</td>\n",
       "      <td>53</td>\n",
       "    </tr>\n",
       "    <tr>\n",
       "      <th>1996</th>\n",
       "      <td>1997</td>\n",
       "      <td>2017-12-24 00:59:07.581</td>\n",
       "      <td>Step_LSC</td>\n",
       "      <td>30002312</td>\n",
       "      <td>processHandleBroadcastAction action:android.in...</td>\n",
       "      <td>E44</td>\n",
       "      <td>processHandleBroadcastAction action:android.in...</td>\n",
       "      <td>2017-12-24</td>\n",
       "      <td>0</td>\n",
       "      <td>59</td>\n",
       "      <td>7</td>\n",
       "    </tr>\n",
       "    <tr>\n",
       "      <th>1997</th>\n",
       "      <td>1998</td>\n",
       "      <td>2017-12-24 01:00:00.794</td>\n",
       "      <td>Step_LSC</td>\n",
       "      <td>30002312</td>\n",
       "      <td>processHandleBroadcastAction action:android.in...</td>\n",
       "      <td>E44</td>\n",
       "      <td>processHandleBroadcastAction action:android.in...</td>\n",
       "      <td>2017-12-24</td>\n",
       "      <td>1</td>\n",
       "      <td>0</td>\n",
       "      <td>0</td>\n",
       "    </tr>\n",
       "    <tr>\n",
       "      <th>1998</th>\n",
       "      <td>1999</td>\n",
       "      <td>2017-12-24 01:01:00.935</td>\n",
       "      <td>Step_LSC</td>\n",
       "      <td>30002312</td>\n",
       "      <td>processHandleBroadcastAction action:android.in...</td>\n",
       "      <td>E44</td>\n",
       "      <td>processHandleBroadcastAction action:android.in...</td>\n",
       "      <td>2017-12-24</td>\n",
       "      <td>1</td>\n",
       "      <td>1</td>\n",
       "      <td>0</td>\n",
       "    </tr>\n",
       "    <tr>\n",
       "      <th>1999</th>\n",
       "      <td>2000</td>\n",
       "      <td>2017-12-24 01:02:35.789</td>\n",
       "      <td>Step_LSC</td>\n",
       "      <td>30002312</td>\n",
       "      <td>processHandleBroadcastAction action:android.in...</td>\n",
       "      <td>E44</td>\n",
       "      <td>processHandleBroadcastAction action:android.in...</td>\n",
       "      <td>2017-12-24</td>\n",
       "      <td>1</td>\n",
       "      <td>2</td>\n",
       "      <td>35</td>\n",
       "    </tr>\n",
       "  </tbody>\n",
       "</table>\n",
       "<p>2000 rows × 11 columns</p>\n",
       "</div>"
      ],
      "text/plain": [
       "      LineId                    Time                 Component       Pid  \\\n",
       "0          1 2017-12-23 22:15:29.606                  Step_LSC  30002312   \n",
       "1          2 2017-12-23 22:15:29.615                  Step_LSC  30002312   \n",
       "2          3 2017-12-23 22:15:29.633  Step_StandReportReceiver  30002312   \n",
       "3          4 2017-12-23 22:15:29.635                  Step_LSC  30002312   \n",
       "4          5 2017-12-23 22:15:29.635     Step_StandStepCounter  30002312   \n",
       "...      ...                     ...                       ...       ...   \n",
       "1995    1996 2017-12-24 00:58:53.985                  Step_LSC  30002312   \n",
       "1996    1997 2017-12-24 00:59:07.581                  Step_LSC  30002312   \n",
       "1997    1998 2017-12-24 01:00:00.794                  Step_LSC  30002312   \n",
       "1998    1999 2017-12-24 01:01:00.935                  Step_LSC  30002312   \n",
       "1999    2000 2017-12-24 01:02:35.789                  Step_LSC  30002312   \n",
       "\n",
       "                                                Content EventId  \\\n",
       "0                               onStandStepChanged 3579     E42   \n",
       "1                         onExtend:1514038530000 14 0 4     E39   \n",
       "2     onReceive action: android.intent.action.SCREEN_ON     E41   \n",
       "3     processHandleBroadcastAction action:android.in...     E43   \n",
       "4                                     flush sensor data     E12   \n",
       "...                                                 ...     ...   \n",
       "1995  processHandleBroadcastAction action:android.in...     E44   \n",
       "1996  processHandleBroadcastAction action:android.in...     E44   \n",
       "1997  processHandleBroadcastAction action:android.in...     E44   \n",
       "1998  processHandleBroadcastAction action:android.in...     E44   \n",
       "1999  processHandleBroadcastAction action:android.in...     E44   \n",
       "\n",
       "                                          EventTemplate        Date  Hour  \\\n",
       "0                                onStandStepChanged <*>  2017-12-23    22   \n",
       "1                              onExtend:<*> <*> <*> <*>  2017-12-23    22   \n",
       "2     onReceive action: android.intent.action.SCREEN_ON  2017-12-23    22   \n",
       "3     processHandleBroadcastAction action:android.in...  2017-12-23    22   \n",
       "4                                     flush sensor data  2017-12-23    22   \n",
       "...                                                 ...         ...   ...   \n",
       "1995  processHandleBroadcastAction action:android.in...  2017-12-24     0   \n",
       "1996  processHandleBroadcastAction action:android.in...  2017-12-24     0   \n",
       "1997  processHandleBroadcastAction action:android.in...  2017-12-24     1   \n",
       "1998  processHandleBroadcastAction action:android.in...  2017-12-24     1   \n",
       "1999  processHandleBroadcastAction action:android.in...  2017-12-24     1   \n",
       "\n",
       "      minute  second  \n",
       "0         15      29  \n",
       "1         15      29  \n",
       "2         15      29  \n",
       "3         15      29  \n",
       "4         15      29  \n",
       "...      ...     ...  \n",
       "1995      58      53  \n",
       "1996      59       7  \n",
       "1997       0       0  \n",
       "1998       1       0  \n",
       "1999       2      35  \n",
       "\n",
       "[2000 rows x 11 columns]"
      ]
     },
     "execution_count": 16,
     "metadata": {},
     "output_type": "execute_result"
    }
   ],
   "source": [
    "df"
   ]
  },
  {
   "cell_type": "code",
   "execution_count": 17,
   "metadata": {},
   "outputs": [],
   "source": [
    "df_steps = df[df['EventTemplate'].str.contains('onStandStepChanged')]"
   ]
  },
  {
   "cell_type": "code",
   "execution_count": 18,
   "metadata": {},
   "outputs": [],
   "source": [
    "step_pattern = 'onStandStepChanged (\\d+)'\n",
    "df['Steps'] = df['Content'].str.extract(step_pattern).astype(float)"
   ]
  },
  {
   "cell_type": "markdown",
   "metadata": {},
   "source": [
    "The visualization of the daily steps count:"
   ]
  },
  {
   "cell_type": "code",
   "execution_count": 19,
   "metadata": {},
   "outputs": [
    {
     "data": {
      "image/png": "[encoded data removed]",
      "text/plain": [
       "<Figure size 1400x700 with 1 Axes>"
      ]
     },
     "metadata": {},
     "output_type": "display_data"
    }
   ],
   "source": [
    "plt.figure(figsize=(14, 7))\n",
    "df.groupby('Date')['Steps'].sum().plot(kind='bar')\n",
    "plt.title('Total Steps Taken Each Day')\n",
    "plt.xlabel('Date')\n",
    "plt.ylabel('Total Steps')\n",
    "plt.xticks(rotation=90)\n",
    "plt.grid(axis='y')\n",
    "plt.show()"
   ]
  },
  {
   "cell_type": "markdown",
   "metadata": {},
   "source": [
    "I will analyze the active times based on the logs. \n",
    "Here's a preview of the log entries by hour for the first few hours available in the dataset:"
   ]
  },
  {
   "cell_type": "code",
   "execution_count": 20,
   "metadata": {},
   "outputs": [
    {
     "data": {
      "image/png": "[encoded data removed]",
      "text/plain": [
       "<Figure size 1400x700 with 1 Axes>"
      ]
     },
     "metadata": {},
     "output_type": "display_data"
    }
   ],
   "source": [
    "plt.figure(figsize=(14, 7))\n",
    "sns.countplot(x='Hour', data=df)\n",
    "plt.title('Distribution of Events by Hour of the Day')\n",
    "plt.xlabel('Hour of the Day')\n",
    "plt.ylabel('Number of Events')\n",
    "plt.xticks(range(0, 24))\n",
    "plt.grid(axis='y')\n",
    "plt.show()"
   ]
  },
  {
   "cell_type": "code",
   "execution_count": 21,
   "metadata": {},
   "outputs": [
    {
     "data": {
      "image/png": "[encoded data removed]",
      "text/plain": [
       "<Figure size 1400x700 with 1 Axes>"
      ]
     },
     "metadata": {},
     "output_type": "display_data"
    }
   ],
   "source": [
    "\n",
    "# Plot the distribution of events over different days to identify workout patterns\n",
    "plt.figure(figsize=(14, 7))\n",
    "sns.countplot(x='Date', data=df)\n",
    "plt.title('Distribution of Events by Date')\n",
    "plt.xlabel('Date')\n",
    "plt.ylabel('Number of Events')\n",
    "plt.xticks(rotation=90)\n",
    "plt.grid(axis='y')\n",
    "plt.show()\n"
   ]
  },
  {
   "cell_type": "code",
   "execution_count": 22,
   "metadata": {},
   "outputs": [
    {
     "data": {
      "image/png": "[encoded data removed]",
      "text/plain": [
       "<Figure size 1400x700 with 1 Axes>"
      ]
     },
     "metadata": {},
     "output_type": "display_data"
    },
    {
     "data": {
      "text/plain": [
       "{'hourly_activity_head': Hour\n",
       " 0      221\n",
       " 1        3\n",
       " 22    1243\n",
       " 23     533\n",
       " Name: Count, dtype: int64}"
      ]
     },
     "execution_count": 22,
     "metadata": {},
     "output_type": "execute_result"
    }
   ],
   "source": [
    "df['Count'] = 1\n",
    "hourly_activity = df.groupby('Hour')['Count'].sum()\n",
    "\n",
    "# Plot the hourly activity\n",
    "hourly_activity.plot(kind='bar', figsize=(14, 7))\n",
    "plt.title('Hourly Activity')\n",
    "plt.xlabel('Hour of the Day')\n",
    "plt.ylabel('Number of Log Entries')\n",
    "plt.xticks(range(0, 24), rotation=0)\n",
    "plt.tight_layout()\n",
    "plt.show()\n",
    "\n",
    "# Return the head of the hourly activity for a preview\n",
    "{'hourly_activity_head': hourly_activity.head()}"
   ]
  },
  {
   "cell_type": "markdown",
   "metadata": {},
   "source": [
    "This graph indicates the users active times throughout the day based on the number of log entries. \n",
    "The next step would be to analyze specific workout times if such events are logged. Shall we proceed with this analysis?"
   ]
  }
 ],
 "metadata": {
  "kernelspec": {
   "display_name": "Python 3",
   "language": "python",
   "name": "python3"
  },
  "language_info": {
   "codemirror_mode": {
    "name": "ipython",
    "version": 3
   },
   "file_extension": ".py",
   "mimetype": "text/x-python",
   "name": "python",
   "nbconvert_exporter": "python",
   "pygments_lexer": "ipython3",
   "version": "3.11.5"
  }
 },
 "nbformat": 4,
 "nbformat_minor": 2
}
